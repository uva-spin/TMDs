{
 "cells": [
  {
   "cell_type": "code",
   "execution_count": 1,
   "metadata": {},
   "outputs": [],
   "source": [
    "import lhapdf\n",
    "import pandas as pd\n",
    "import numpy as np\n",
    "import matplotlib.pyplot as plt\n",
    "from Input_Parameterization import *\n",
    "from Sivers_SIDIS_Definitions import *\n",
    "from Paths import *\n",
    "from Constants import *\n",
    "\n",
    "from iminuit import Minuit\n",
    "import numpy as np"
   ]
  },
  {
   "cell_type": "code",
   "execution_count": 2,
   "metadata": {},
   "outputs": [],
   "source": [
    "def totalchi2Minuit(m1,Nu,au,bu,Nub,Nd,ad,bd,Ndb):\n",
    "    tempchi2=SIDIStotalchi2Minuit(m1=m1,Nu=Nu,au=au,bu=bu,Nub=Nub,Nd=Nd,ad=ad,bd=bd,\n",
    "                                  Ndb=Ndb)\n",
    "    return tempchi2"
   ]
  },
  {
   "cell_type": "code",
   "execution_count": 3,
   "metadata": {},
   "outputs": [
    {
     "data": {
      "text/plain": [
       "613.8945000791393"
      ]
     },
     "execution_count": 3,
     "metadata": {},
     "output_type": "execute_result"
    }
   ],
   "source": [
    "totalchi2Minuit(5.35,0.62,2.537,13.82,-0.189,-1.15,2.2,9.12,-0.16)"
   ]
  },
  {
   "cell_type": "code",
   "execution_count": 4,
   "metadata": {},
   "outputs": [],
   "source": [
    "# m1v=5.35\n",
    "# Nuv=0.62\n",
    "# auv=2.537\n",
    "# buv=13.82\n",
    "# Nubv=-0.189\n",
    "# aubv=0\n",
    "# bubv=0\n",
    "# Ndv=-1.15\n",
    "# adv=2.2\n",
    "# bdv=9.12\n",
    "# Ndbv=-0.16\n",
    "# adbv=0\n",
    "# bdbv=0\n",
    "# Nsv=10.09\n",
    "# asv=0.497\n",
    "# bsv=0.066\n",
    "# Nsbv=0.18\n",
    "# asbv=0\n",
    "# bsbv=0\n",
    "\n",
    "# M1_test=1.303\n",
    "# AlphaU_test=0.6455\n",
    "# BetaU_test=3.122\n",
    "# AlphaD_test=1.777\n",
    "# BetaD_test=7.788\n",
    "# AlphaS_test=0.00006887\n",
    "# BetaS_test=0.0000000005537\n",
    "# NU_test=0.1695\n",
    "# NUbar_test=0.007605\n",
    "# ND_test=-0.4345\n",
    "# NDbar_test=-0.1420\n",
    "# NS_test=0.5626\n",
    "# NSbar_test=-0.1221\n",
    "\n",
    "M1_test=0.8\n",
    "AlphaU_test=1.0\n",
    "BetaU_test=6.6\n",
    "AlphaD_test=1.9\n",
    "BetaD_test=10\n",
    "AlphaS_test= 0\n",
    "BetaS_test= 0\n",
    "NU_test=0.18\n",
    "NUbar_test=-0.01\n",
    "ND_test=-0.52\n",
    "NDbar_test=-0.06\n",
    "NS_test = 0\n",
    "NSbar_test = 0\n",
    "\n",
    "m1v = M1_test\n",
    "\n",
    "Nuv = NU_test\n",
    "auv = AlphaU_test\n",
    "buv = BetaU_test\n",
    "\n",
    "Nubv = NUbar_test\n",
    "# aubv = 1\n",
    "# bubv = 1\n",
    "\n",
    "Ndv = ND_test\n",
    "adv = AlphaD_test\n",
    "bdv = BetaD_test\n",
    "\n",
    "Ndbv = NDbar_test\n",
    "# adbv = 1\n",
    "# bdbv = 1\n",
    "\n",
    "# Nsv = NS_test\n",
    "# asv = AlphaS_test\n",
    "# bsv = BetaS_test\n",
    "\n",
    "# Nsbv = NSbar_test\n",
    "# asbv = 1\n",
    "# bsbv = 1"
   ]
  },
  {
   "cell_type": "code",
   "execution_count": null,
   "metadata": {},
   "outputs": [],
   "source": [
    "ms = Minuit(totalchi2Minuit,m1=m1v,Nu=Nuv,au=auv,bu=buv,Nub=Nubv,\n",
    "Nd=Ndv,ad=adv,bd=bdv,Ndb=Ndbv,\n",
    "limit_m1=(0.5,7),\n",
    "limit_au=(0,20),limit_bu=(0,20),\n",
    "limit_ad=(0,20),limit_bd=(0,20),\n",
    "errordef=1)\n",
    "#ms = Minuit(totalchi2Minuit,m1=M1_init,Nu=NU_init,alphau=AlphaU_init,betau=BetaU_init,Nubar=NUbar_init,Nd=ND_init,alphad=AlphaD_init,betad=BetaD_init,Ndbar=NDbar_init,Ns=NS_init,alphas=AlphaS_init,betas=BetaS_init,Nsbar=NSbar_init)\n",
    "ms.migrad()"
   ]
  },
  {
   "cell_type": "code",
   "execution_count": null,
   "metadata": {},
   "outputs": [],
   "source": [
    "m1v=0\n",
    "Nuv=0\n",
    "auv=0\n",
    "buv=0\n",
    "Nubv=0\n",
    "Ndv=0\n",
    "adv=0\n",
    "bdv=0\n",
    "Ndbv=0\n",
    "\n",
    "ms2 = Minuit(totalchi2Minuit,m1=m1v,Nu=Nuv,au=auv,bu=buv,Nub=Nubv,\n",
    "Nd=Ndv,ad=adv,bd=bdv,Ndb=Ndbv,\n",
    "limit_m1=(0,7),\n",
    "limit_au=(0,20),limit_bu=(0,20),\n",
    "limit_ad=(0,20),limit_bd=(0,20),\n",
    "errordef=1)\n",
    "#ms = Minuit(totalchi2Minuit,m1=M1_init,Nu=NU_init,alphau=AlphaU_init,betau=BetaU_init,Nubar=NUbar_init,Nd=ND_init,alphad=AlphaD_init,betad=BetaD_init,Ndbar=NDbar_init,Ns=NS_init,alphas=AlphaS_init,betas=BetaS_init,Nsbar=NSbar_init)\n",
    "ms2.migrad()"
   ]
  },
  {
   "cell_type": "code",
   "execution_count": null,
   "metadata": {},
   "outputs": [],
   "source": [
    "m1v=0\n",
    "Nuv=0\n",
    "auv=0\n",
    "buv=0\n",
    "Nubv=0\n",
    "Ndv=0\n",
    "adv=0\n",
    "bdv=0\n",
    "Ndbv=0\n",
    "\n",
    "ms2 = Minuit(totalchi2Minuit,m1=m1v,Nu=Nuv,au=auv,bu=buv,Nub=Nubv,\n",
    "Nd=Ndv,ad=adv,bd=bdv,Ndb=Ndbv,\n",
    "limit_m1=(0,7),\n",
    "limit_au=(0,20),limit_bu=(0,20),\n",
    "limit_ad=(0,20),limit_bd=(0,20),\n",
    "errordef=1)\n",
    "#ms = Minuit(totalchi2Minuit,m1=M1_init,Nu=NU_init,alphau=AlphaU_init,betau=BetaU_init,Nubar=NUbar_init,Nd=ND_init,alphad=AlphaD_init,betad=BetaD_init,Ndbar=NDbar_init,Ns=NS_init,alphas=AlphaS_init,betas=BetaS_init,Nsbar=NSbar_init)\n",
    "ms2.migrad()"
   ]
  }
 ],
 "metadata": {
  "kernelspec": {
   "display_name": "Python 3",
   "language": "python",
   "name": "python3"
  },
  "language_info": {
   "codemirror_mode": {
    "name": "ipython",
    "version": 3
   },
   "file_extension": ".py",
   "mimetype": "text/x-python",
   "name": "python",
   "nbconvert_exporter": "python",
   "pygments_lexer": "ipython3",
   "version": "3.8.10"
  }
 },
 "nbformat": 4,
 "nbformat_minor": 4
}
