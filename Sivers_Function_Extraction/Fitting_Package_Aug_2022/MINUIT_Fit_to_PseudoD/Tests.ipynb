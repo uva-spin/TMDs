{
 "cells": [
  {
   "cell_type": "code",
   "execution_count": 21,
   "metadata": {},
   "outputs": [],
   "source": [
    "import lhapdf\n",
    "import pandas as pd\n",
    "import numpy as np\n",
    "import matplotlib.pyplot as plt\n",
    "from Paths import *\n",
    "from Constants import *\n",
    "from Input_Parameterization import *\n",
    "from Sivers_SIDIS_Definitions import *"
   ]
  },
  {
   "cell_type": "code",
   "execution_count": 23,
   "metadata": {
    "scrolled": true
   },
   "outputs": [
    {
     "name": "stdout",
     "output_type": "stream",
     "text": [
      "(7, 8)\n"
     ]
    }
   ],
   "source": [
    "m1v = 1.0\n",
    "\n",
    "Nuv = 2.4\n",
    "auv = 1.8\n",
    "buv = 0.05\n",
    "\n",
    "Nubv = 2.2\n",
    "aubv = 2.1\n",
    "bubv = 0.06\n",
    "\n",
    "Ndv = 2.45\n",
    "adv = 1.95\n",
    "bdv = 0.07\n",
    "\n",
    "Ndbv = -1.6\n",
    "adbv = 2.6\n",
    "bdbv = 0.04\n",
    "\n",
    "Nsv = 0.4\n",
    "asv = 1.8\n",
    "bsv = 0.51\n",
    "\n",
    "Nsbv = -0.07\n",
    "asbv = 0.55\n",
    "bsbv = 0.07\n",
    "\n",
    "\n",
    "def Asymmetry_for_Hadron_test(SIDISdatafilename,hadron,dep,**parms):\n",
    "    m1= parms[\"m1\"]\n",
    "    Nu = parms[\"Nu\"]\n",
    "    alphau= parms[\"au\"]\n",
    "    betau = parms[\"bu\"]\n",
    "    Nubar = parms[\"Nub\"]\n",
    "    alphaub= parms[\"aub\"]\n",
    "    betaub = parms[\"bub\"]    \n",
    "    Nubar = parms[\"Nub\"]\n",
    "    Nd = parms[\"Nd\"]\n",
    "    alphad= parms[\"ad\"]\n",
    "    betad = parms[\"bd\"]\n",
    "    Ndbar = parms[\"Ndb\"]\n",
    "    alphadb= parms[\"adb\"]\n",
    "    betadb = parms[\"bdb\"]\n",
    "    Ns = parms[\"Ns\"]\n",
    "    alphas= parms[\"aS\"]\n",
    "    betas = parms[\"bS\"]\n",
    "    Nsbar = parms[\"Nsb\"]\n",
    "    alphasb= parms[\"asb\"]\n",
    "    betasb = parms[\"bsb\"]\n",
    "    kperp2Avg=Kp2A\n",
    "    pperpAvg=Pp2A\n",
    "    eCharg=ee\n",
    "    PDFfile=Determine_PDFs_FFs(SIDISdatafilename,hadron)[0]\n",
    "    FFfile=Determine_PDFs_FFs(SIDISdatafilename,hadron)[1]\n",
    "    tempvals_all=PDFfile\n",
    "    #tempvals=tempvals_all[(tempvals_all[\"hadron\"]==hadron)]\n",
    "    tempvals=tempvals_all[(tempvals_all[\"hadron\"]==hadron)&(tempvals_all[\"1D_dependence\"]==dep)]\n",
    "    # QQ=tempvals['QQ']\n",
    "    x=tempvals['x']\n",
    "    z=tempvals['z']\n",
    "    phT=tempvals['phT']\n",
    "#     uCont1= NNq(x,Nu,alphau,betau)*(eU**2)*SIDIS_xFxQ2(PDFfile,2,hadron,dep)*SIDIS_zFzQ(FFfile,2,hadron,dep)\n",
    "#     ubarCont1= NNqbar(x,Nubar,alphaub,betaub)*(eUbar**2)*SIDIS_xFxQ2(PDFfile,-2,hadron,dep)*SIDIS_zFzQ(FFfile,-2,hadron,dep)\n",
    "#     dCont1= NNq(x,Nd,alphad,betad)*(eD**2)*SIDIS_xFxQ2(PDFfile,1,hadron,dep)*SIDIS_zFzQ(FFfile,1,hadron,dep)\n",
    "#     dbarCont1= NNqbar(x,Ndbar,alphadb,betadb)*(eDbar**2)*SIDIS_xFxQ2(PDFfile,-1,hadron,dep)*SIDIS_zFzQ(FFfile,-1,hadron,dep)\n",
    "#     sCont1= NNq(x,Ns,alphas,betas)*(eS**2)*SIDIS_xFxQ2(PDFfile,3,hadron,dep)*SIDIS_zFzQ(FFfile,3,hadron,dep)\n",
    "#     sbarCont1= NNqbar(x,Nsbar,alphasb,betasb)*(eSbar**2)*SIDIS_xFxQ2(PDFfile,-3,hadron,dep)*SIDIS_zFzQ(FFfile,-3,hadron,dep)\n",
    "#     uCont2= (eU**2)*SIDIS_xFxQ2(PDFfile,2,hadron,dep)*SIDIS_zFzQ(FFfile,2,hadron,dep)\n",
    "#     ubarCont2= (eUbar**2)*SIDIS_xFxQ2(PDFfile,-2,hadron,dep)*SIDIS_zFzQ(FFfile,-2,hadron,dep)\n",
    "#     dCont2= (eD**2)*SIDIS_xFxQ2(PDFfile,1,hadron,dep)*SIDIS_zFzQ(FFfile,1,hadron,dep)\n",
    "#     dbarCont2=(eDbar**2)*SIDIS_xFxQ2(PDFfile,-1,hadron,dep)*SIDIS_zFzQ(FFfile,-1,hadron,dep)\n",
    "#     sCont2= (eS**2)*SIDIS_xFxQ2(PDFfile,3,hadron,dep)*SIDIS_zFzQ(FFfile,3,hadron,dep)\n",
    "#     sbarCont2= (eSbar**2)*SIDIS_xFxQ2(PDFfile,-3,hadron,dep)*SIDIS_zFzQ(FFfile,-3,hadron,dep)\n",
    "#     tempNumerator = uCont1 + ubarCont1 +dCont1 + dbarCont1 + sCont1 + sbarCont1\n",
    "#     tempDenominator = uCont2 + ubarCont2 +dCont2 + dbarCont2 + sCont2 + sbarCont2\n",
    "#     tempASiv_Hadron = A0(z,phT,m1,kperp2Avg,pperpAvg,eCharg)*(tempNumerator/tempDenominator)\n",
    "    return len(z), len(SIDIS_zFzQ(FFfile,2,hadron,dep))\n",
    "\n",
    "tempfitx=Asymmetry_for_Hadron_test(SIDIS_DataFilesArray[0],\"pi+\",\"x\",m1=m1v,Nu=Nuv,au=auv,bu=buv,Nub=Nubv,aub=aubv,bub=bubv,\n",
    "    Nd=Ndv,ad=adv,bd=bdv,Ndb=Ndbv,adb=adbv,bdb=bdbv,\n",
    "    Ns=Nsv,aS=asv,bS=bsv,Nsb=Nsbv,asb=asbv,bsb=bsbv)\n",
    "\n",
    "print(tempfitx)"
   ]
  },
  {
   "cell_type": "code",
   "execution_count": null,
   "metadata": {},
   "outputs": [],
   "source": []
  }
 ],
 "metadata": {
  "kernelspec": {
   "display_name": "Python 3",
   "language": "python",
   "name": "python3"
  },
  "language_info": {
   "codemirror_mode": {
    "name": "ipython",
    "version": 3
   },
   "file_extension": ".py",
   "mimetype": "text/x-python",
   "name": "python",
   "nbconvert_exporter": "python",
   "pygments_lexer": "ipython3",
   "version": "3.8.10"
  }
 },
 "nbformat": 4,
 "nbformat_minor": 4
}
