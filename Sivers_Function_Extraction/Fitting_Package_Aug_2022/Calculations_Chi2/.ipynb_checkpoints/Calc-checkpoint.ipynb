{
 "cells": [
  {
   "cell_type": "code",
   "execution_count": 1,
   "metadata": {},
   "outputs": [],
   "source": [
    "import lhapdf\n",
    "import pandas as pd\n",
    "import numpy as np\n",
    "import matplotlib.pyplot as plt\n",
    "import scipy.optimize as opt\n",
    "from Global_Constants import *\n",
    "from Sivers_SIDIS_Definitions import *\n",
    "from Sivers_DY_Definitions import *\n",
    "\n",
    "from iminuit import Minuit\n",
    "import numpy as np\n",
    "#import tabulate as tab"
   ]
  },
  {
   "cell_type": "code",
   "execution_count": 2,
   "metadata": {
    "scrolled": true
   },
   "outputs": [],
   "source": [
    "#######################################################\n",
    "############# This is the chi2 for SIDIS ##############\n",
    "#######################################################\n",
    "\n",
    "\n",
    "def SIDIStotalchi2Minuit(m1,Nu,alphau,betau,Nubar,Nd,alphad,betad,Ndbar,Ns,alphas,betas,Nsbar):\n",
    "    datfilesarray=SIDIS_DataFilesArray\n",
    "    datfilesnum=len(datfilesarray)\n",
    "    temptotal=[]\n",
    "    temptotaldata=[]\n",
    "    temptotalerr=[]\n",
    "    for i in range(0,datfilesnum):\n",
    "        temptotal.append(totalfitDataSet(datfilesarray[i],m1,Nu,alphau,betau,Nubar,Nd,alphad,betad,Ndbar,Ns,alphas,betas,Nsbar))\n",
    "        temptotaldata.append(np.concatenate(ASiv_Val(datfilesarray[i])))\n",
    "        temptotalerr.append(np.concatenate(ASiv_Err(datfilesarray[i])))\n",
    "    tempTheory=np.concatenate((temptotal))\n",
    "    tempY=np.concatenate((temptotaldata))\n",
    "    tempYErr=np.concatenate((temptotalerr))\n",
    "    tempChi2=np.sum(((tempY-tempTheory)/tempYErr)**2)\n",
    "    return tempChi2\n",
    "\n",
    "def SIDIS_Data_points():\n",
    "    datfilesarray=SIDIS_DataFilesArray\n",
    "    datfilesnum=len(datfilesarray)\n",
    "    temptotaldata=[]\n",
    "    temptotalerr=[]\n",
    "    for i in range(0,datfilesnum):\n",
    "        temptotaldata.append(np.concatenate(ASiv_Val(datfilesarray[i])))\n",
    "        temptotalerr.append(np.concatenate(ASiv_Err(datfilesarray[i])))\n",
    "    tempY=np.concatenate((temptotaldata))\n",
    "    Data_points=len(tempY)\n",
    "    #tempYErr=np.concatenate((temptotalerr))\n",
    "    return Data_points\n",
    "\n",
    "\n",
    "#######################################################\n",
    "############# This is the chi2 for DY #################\n",
    "#######################################################\n",
    "\n",
    "def DYtotalchi2Minuit(m1,Nu,alphau,betau,Nubar,Nd,alphad,betad,Ndbar,Ns,alphas,betas,Nsbar):\n",
    "    DY_datfilesarray=DY_DataFilesArray\n",
    "    DY_datfilesnum=len(DY_datfilesarray)\n",
    "    temptotal=[]\n",
    "    for i in range(0,DY_datfilesnum):\n",
    "        temptotal.append(DYtotalfitDataSets(DY_datfilesarray,m1=m1,Nu=Nu,alphau=alphau,betau=betau,Nubar=Nubar,Nd=Nd,alphad=alphad,betad=betad,Ndbar=Ndbar,Ns=Ns,alphas=alphas,betas=betas,Nsbar=Nsbar))\n",
    "    tempTheory=np.concatenate((temptotal), axis=None)\n",
    "    tempY=DYSiversVals(DY_datfilesarray)\n",
    "    DY_Data_points=len(tempY)\n",
    "    tempYErr=DYSiversErrVals(DY_datfilesarray)\n",
    "    tempChi2=np.sum(((tempY-tempTheory)/tempYErr)**2)\n",
    "    return tempChi2\n",
    "\n",
    "def DY_Data_points():\n",
    "    DY_datfilesarray=DY_DataFilesArray\n",
    "    DY_datfilesnum=len(DY_datfilesarray)\n",
    "    tempY=DYSiversVals(DY_datfilesarray)\n",
    "    DY_Data_points=len(tempY)\n",
    "    return DY_Data_points\n",
    "\n",
    "\n",
    "\n",
    "def totalchi2Minuit(m1,Nu,alphau,betau,Nubar,Nd,alphad,betad,Ndbar,Ns,alphas,betas,Nsbar):\n",
    "    tempchi2=SIDIStotalchi2Minuit(m1=m1,Nu=Nu,alphau=alphau,betau=betau,Nubar=Nubar,Nd=Nd,alphad=alphad,betad=betad,Ndbar=Ndbar,Ns=Ns,alphas=alphas,betas=betas,Nsbar=Nsbar)+ DYtotalchi2Minuit(m1=m1,Nu=Nu,alphau=alphau,betau=betau,Nubar=Nubar,Nd=Nd,alphad=alphad,betad=betad,Ndbar=Ndbar,Ns=Ns,alphas=alphas,betas=betas,Nsbar=Nsbar)\n",
    "    return tempchi2\n",
    "\n",
    "#m = Minuit(totalchi2Minuit,m1=M1_t2,Nu=NU_t2,alphau=AlphaU_t2,betau=BetaU_t2,Nubar=NUbar_t2,Nd=ND_t2,alphad=AlphaD_t2,betad=BetaD_t2,Ndbar=NDbar_t2,Ns=NS_t2,alphas=AlphaS_t2,betas=BetaS_t2,Nsbar=NSbar_t2)\n",
    "#m.migrad()"
   ]
  },
  {
   "cell_type": "code",
   "execution_count": 3,
   "metadata": {
    "scrolled": true
   },
   "outputs": [
    {
     "name": "stdout",
     "output_type": "stream",
     "text": [
      "313\n",
      "15\n"
     ]
    }
   ],
   "source": [
    "print(SIDIS_Data_points())\n",
    "print(DY_Data_points())"
   ]
  },
  {
   "cell_type": "code",
   "execution_count": 12,
   "metadata": {},
   "outputs": [
    {
     "name": "stdout",
     "output_type": "stream",
     "text": [
      "836.9481037964147\n"
     ]
    }
   ],
   "source": [
    "print(SIDIStotalchi2Minuit(2,0.18,1,6.6,-0.01,-0.52,1.9,10,-0.06,0,0,0,0))\n",
    "#print(totalchi2Minuit(6,0.15,1,7,-0.0001,-0.8,1.9,10,-0.06,0,0,0,0))"
   ]
  },
  {
   "cell_type": "code",
   "execution_count": 15,
   "metadata": {},
   "outputs": [
    {
     "name": "stdout",
     "output_type": "stream",
     "text": [
      "119437.66408853808\n"
     ]
    }
   ],
   "source": [
    "print(SIDIStotalchi2Minuit(2,0.18,1,6.6,-0.01,-0.52,1.9,10,-0.06,10,0,0,0))"
   ]
  },
  {
   "cell_type": "code",
   "execution_count": null,
   "metadata": {},
   "outputs": [],
   "source": [
    "Chi2_list_prep1(Dat1,\"pi+\",\"x\",2,0.18,1,6.6,-0.01,-0.52,1.9,10,-0.06,0,0,0,0)"
   ]
  },
  {
   "cell_type": "code",
   "execution_count": 4,
   "metadata": {},
   "outputs": [
    {
     "ename": "ValueError",
     "evalue": "operands could not be broadcast together with shapes (21,) (7,) ",
     "output_type": "error",
     "traceback": [
      "\u001b[0;31m---------------------------------------------------------------------------\u001b[0m",
      "\u001b[0;31mValueError\u001b[0m                                Traceback (most recent call last)",
      "\u001b[0;32m<ipython-input-4-cd95cfbbcd00>\u001b[0m in \u001b[0;36m<module>\u001b[0;34m\u001b[0m\n\u001b[0;32m----> 1\u001b[0;31m \u001b[0mChi2CompSingleDataSetModified\u001b[0m\u001b[0;34m(\u001b[0m\u001b[0mDat1\u001b[0m\u001b[0;34m,\u001b[0m\u001b[0;36m2\u001b[0m\u001b[0;34m,\u001b[0m\u001b[0;36m0.18\u001b[0m\u001b[0;34m,\u001b[0m\u001b[0;36m1\u001b[0m\u001b[0;34m,\u001b[0m\u001b[0;36m6.6\u001b[0m\u001b[0;34m,\u001b[0m\u001b[0;34m-\u001b[0m\u001b[0;36m0.01\u001b[0m\u001b[0;34m,\u001b[0m\u001b[0;34m-\u001b[0m\u001b[0;36m0.52\u001b[0m\u001b[0;34m,\u001b[0m\u001b[0;36m1.9\u001b[0m\u001b[0;34m,\u001b[0m\u001b[0;36m10\u001b[0m\u001b[0;34m,\u001b[0m\u001b[0;34m-\u001b[0m\u001b[0;36m0.06\u001b[0m\u001b[0;34m,\u001b[0m\u001b[0;36m0\u001b[0m\u001b[0;34m,\u001b[0m\u001b[0;36m0\u001b[0m\u001b[0;34m,\u001b[0m\u001b[0;36m0\u001b[0m\u001b[0;34m,\u001b[0m\u001b[0;36m0\u001b[0m\u001b[0;34m)\u001b[0m\u001b[0;34m\u001b[0m\u001b[0;34m\u001b[0m\u001b[0m\n\u001b[0m",
      "\u001b[0;32m~/Documents/TMDs/Sivers_Extraction/Calculations_Chi2/Sivers_SIDIS_Definitions.py\u001b[0m in \u001b[0;36mChi2CompSingleDataSetModified\u001b[0;34m(datfile, m1, Nu, alphau, betau, Nubar, Nd, alphad, betad, Ndbar, Ns, alphas, betas, Nsbar)\u001b[0m\n\u001b[1;32m    386\u001b[0m         \u001b[0;32mif\u001b[0m \u001b[0mtemHads\u001b[0m\u001b[0;34m[\u001b[0m\u001b[0mi\u001b[0m\u001b[0;34m]\u001b[0m\u001b[0;34m==\u001b[0m\u001b[0;34m\"pi+\"\u001b[0m\u001b[0;34m:\u001b[0m\u001b[0;34m\u001b[0m\u001b[0;34m\u001b[0m\u001b[0m\n\u001b[1;32m    387\u001b[0m             \u001b[0mHadronArray\u001b[0m\u001b[0;34m.\u001b[0m\u001b[0mappend\u001b[0m\u001b[0;34m(\u001b[0m\u001b[0;34m\"pi+\"\u001b[0m\u001b[0;34m)\u001b[0m\u001b[0;34m\u001b[0m\u001b[0;34m\u001b[0m\u001b[0m\n\u001b[0;32m--> 388\u001b[0;31m             \u001b[0mtempChi2valX\u001b[0m\u001b[0;34m=\u001b[0m\u001b[0mChi2_list_prep1\u001b[0m\u001b[0;34m(\u001b[0m\u001b[0mdatfile\u001b[0m\u001b[0;34m,\u001b[0m\u001b[0;34m\"pi+\"\u001b[0m\u001b[0;34m,\u001b[0m\u001b[0;34m\"x\"\u001b[0m\u001b[0;34m,\u001b[0m\u001b[0mm1\u001b[0m\u001b[0;34m,\u001b[0m\u001b[0mNu\u001b[0m\u001b[0;34m,\u001b[0m\u001b[0malphau\u001b[0m\u001b[0;34m,\u001b[0m\u001b[0mbetau\u001b[0m\u001b[0;34m,\u001b[0m\u001b[0mNubar\u001b[0m\u001b[0;34m,\u001b[0m\u001b[0mNd\u001b[0m\u001b[0;34m,\u001b[0m\u001b[0malphad\u001b[0m\u001b[0;34m,\u001b[0m\u001b[0mbetad\u001b[0m\u001b[0;34m,\u001b[0m\u001b[0mNdbar\u001b[0m\u001b[0;34m,\u001b[0m\u001b[0mNs\u001b[0m\u001b[0;34m,\u001b[0m\u001b[0malphas\u001b[0m\u001b[0;34m,\u001b[0m\u001b[0mbetas\u001b[0m\u001b[0;34m,\u001b[0m\u001b[0mNsbar\u001b[0m\u001b[0;34m)\u001b[0m\u001b[0;34m[\u001b[0m\u001b[0;36m0\u001b[0m\u001b[0;34m]\u001b[0m\u001b[0;34m\u001b[0m\u001b[0;34m\u001b[0m\u001b[0m\n\u001b[0m\u001b[1;32m    389\u001b[0m             \u001b[0mtempPointsX\u001b[0m\u001b[0;34m=\u001b[0m\u001b[0mChi2_list_prep1\u001b[0m\u001b[0;34m(\u001b[0m\u001b[0mdatfile\u001b[0m\u001b[0;34m,\u001b[0m\u001b[0;34m\"pi+\"\u001b[0m\u001b[0;34m,\u001b[0m\u001b[0;34m\"x\"\u001b[0m\u001b[0;34m,\u001b[0m\u001b[0mm1\u001b[0m\u001b[0;34m,\u001b[0m\u001b[0mNu\u001b[0m\u001b[0;34m,\u001b[0m\u001b[0malphau\u001b[0m\u001b[0;34m,\u001b[0m\u001b[0mbetau\u001b[0m\u001b[0;34m,\u001b[0m\u001b[0mNubar\u001b[0m\u001b[0;34m,\u001b[0m\u001b[0mNd\u001b[0m\u001b[0;34m,\u001b[0m\u001b[0malphad\u001b[0m\u001b[0;34m,\u001b[0m\u001b[0mbetad\u001b[0m\u001b[0;34m,\u001b[0m\u001b[0mNdbar\u001b[0m\u001b[0;34m,\u001b[0m\u001b[0mNs\u001b[0m\u001b[0;34m,\u001b[0m\u001b[0malphas\u001b[0m\u001b[0;34m,\u001b[0m\u001b[0mbetas\u001b[0m\u001b[0;34m,\u001b[0m\u001b[0mNsbar\u001b[0m\u001b[0;34m)\u001b[0m\u001b[0;34m[\u001b[0m\u001b[0;36m1\u001b[0m\u001b[0;34m]\u001b[0m\u001b[0;34m\u001b[0m\u001b[0;34m\u001b[0m\u001b[0m\n\u001b[1;32m    390\u001b[0m             \u001b[0mDataPoints\u001b[0m\u001b[0;34m.\u001b[0m\u001b[0mappend\u001b[0m\u001b[0;34m(\u001b[0m\u001b[0mtempPointsX\u001b[0m\u001b[0;34m)\u001b[0m\u001b[0;34m\u001b[0m\u001b[0;34m\u001b[0m\u001b[0m\n",
      "\u001b[0;32m~/Documents/TMDs/Sivers_Extraction/Calculations_Chi2/Sivers_SIDIS_Definitions.py\u001b[0m in \u001b[0;36mChi2_list_prep1\u001b[0;34m(datfile, hadron, dependence, m1, Nu, alphau, betau, Nubar, Nd, alphad, betad, Ndbar, Ns, alphas, betas, Nsbar)\u001b[0m\n\u001b[1;32m    368\u001b[0m     \u001b[0mtempdata\u001b[0m\u001b[0;34m=\u001b[0m\u001b[0mASiv_data_comp\u001b[0m\u001b[0;34m(\u001b[0m\u001b[0mdatfile\u001b[0m\u001b[0;34m,\u001b[0m\u001b[0mhadron\u001b[0m\u001b[0;34m,\u001b[0m\u001b[0mdependence\u001b[0m\u001b[0;34m)\u001b[0m\u001b[0;34m[\u001b[0m\u001b[0;36m0\u001b[0m\u001b[0;34m]\u001b[0m\u001b[0;34m\u001b[0m\u001b[0;34m\u001b[0m\u001b[0m\n\u001b[1;32m    369\u001b[0m     \u001b[0mtempdataerr\u001b[0m\u001b[0;34m=\u001b[0m\u001b[0mASiv_data_comp\u001b[0m\u001b[0;34m(\u001b[0m\u001b[0mdatfile\u001b[0m\u001b[0;34m,\u001b[0m\u001b[0mhadron\u001b[0m\u001b[0;34m,\u001b[0m\u001b[0mdependence\u001b[0m\u001b[0;34m)\u001b[0m\u001b[0;34m[\u001b[0m\u001b[0;36m1\u001b[0m\u001b[0;34m]\u001b[0m\u001b[0;34m\u001b[0m\u001b[0;34m\u001b[0m\u001b[0m\n\u001b[0;32m--> 370\u001b[0;31m     \u001b[0mtempchi2\u001b[0m\u001b[0;34m=\u001b[0m\u001b[0mchisquare\u001b[0m\u001b[0;34m(\u001b[0m\u001b[0mtempfit\u001b[0m\u001b[0;34m,\u001b[0m \u001b[0mtempdata\u001b[0m\u001b[0;34m,\u001b[0m \u001b[0mtempdataerr\u001b[0m\u001b[0;34m)\u001b[0m\u001b[0;34m\u001b[0m\u001b[0;34m\u001b[0m\u001b[0m\n\u001b[0m\u001b[1;32m    371\u001b[0m     \u001b[0;32mreturn\u001b[0m \u001b[0mtempchi2\u001b[0m\u001b[0;34m,\u001b[0m\u001b[0mlen\u001b[0m\u001b[0;34m(\u001b[0m\u001b[0mtempdata\u001b[0m\u001b[0;34m)\u001b[0m\u001b[0;34m\u001b[0m\u001b[0;34m\u001b[0m\u001b[0m\n\u001b[1;32m    372\u001b[0m \u001b[0;34m\u001b[0m\u001b[0m\n",
      "\u001b[0;32m~/Documents/TMDs/Sivers_Extraction/Calculations_Chi2/Sivers_SIDIS_Definitions.py\u001b[0m in \u001b[0;36mchisquare\u001b[0;34m(y, yhat, err)\u001b[0m\n\u001b[1;32m    372\u001b[0m \u001b[0;34m\u001b[0m\u001b[0m\n\u001b[1;32m    373\u001b[0m \u001b[0;32mdef\u001b[0m \u001b[0mchisquare\u001b[0m\u001b[0;34m(\u001b[0m\u001b[0my\u001b[0m\u001b[0;34m,\u001b[0m \u001b[0myhat\u001b[0m\u001b[0;34m,\u001b[0m \u001b[0merr\u001b[0m\u001b[0;34m)\u001b[0m\u001b[0;34m:\u001b[0m\u001b[0;34m\u001b[0m\u001b[0;34m\u001b[0m\u001b[0m\n\u001b[0;32m--> 374\u001b[0;31m     \u001b[0;32mreturn\u001b[0m \u001b[0mnp\u001b[0m\u001b[0;34m.\u001b[0m\u001b[0msum\u001b[0m\u001b[0;34m(\u001b[0m\u001b[0;34m(\u001b[0m\u001b[0;34m(\u001b[0m\u001b[0my\u001b[0m \u001b[0;34m-\u001b[0m \u001b[0myhat\u001b[0m\u001b[0;34m)\u001b[0m\u001b[0;34m/\u001b[0m\u001b[0merr\u001b[0m\u001b[0;34m)\u001b[0m\u001b[0;34m**\u001b[0m\u001b[0;36m2\u001b[0m\u001b[0;34m)\u001b[0m\u001b[0;34m\u001b[0m\u001b[0;34m\u001b[0m\u001b[0m\n\u001b[0m\u001b[1;32m    375\u001b[0m \u001b[0;34m\u001b[0m\u001b[0m\n\u001b[1;32m    376\u001b[0m \u001b[0;34m\u001b[0m\u001b[0m\n",
      "\u001b[0;31mValueError\u001b[0m: operands could not be broadcast together with shapes (21,) (7,) "
     ]
    }
   ],
   "source": [
    "Chi2CompSingleDataSetModified(Dat1,2,0.18,1,6.6,-0.01,-0.52,1.9,10,-0.06,0,0,0,0)"
   ]
  },
  {
   "cell_type": "code",
   "execution_count": null,
   "metadata": {},
   "outputs": [],
   "source": []
  }
 ],
 "metadata": {
  "kernelspec": {
   "display_name": "Python 3",
   "language": "python",
   "name": "python3"
  },
  "language_info": {
   "codemirror_mode": {
    "name": "ipython",
    "version": 3
   },
   "file_extension": ".py",
   "mimetype": "text/x-python",
   "name": "python",
   "nbconvert_exporter": "python",
   "pygments_lexer": "ipython3",
   "version": "3.8.10"
  }
 },
 "nbformat": 4,
 "nbformat_minor": 4
}
