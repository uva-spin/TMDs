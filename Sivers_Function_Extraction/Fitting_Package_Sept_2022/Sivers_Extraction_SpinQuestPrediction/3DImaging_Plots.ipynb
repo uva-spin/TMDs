{
 "cells": [
  {
   "cell_type": "code",
   "execution_count": 16,
   "metadata": {},
   "outputs": [],
   "source": [
    "import tensorflow as tf\n",
    "import numpy as np\n",
    "import matplotlib.pyplot as plt\n",
    "import lhapdf"
   ]
  },
  {
   "cell_type": "code",
   "execution_count": 37,
   "metadata": {},
   "outputs": [],
   "source": [
    "pdfset = 'cteq61'\n",
    "Mp = 0.938\n",
    "\n",
    "class A0(tf.keras.layers.Layer):\n",
    "    def __init__(self, kperp2avg=.57, pperp2avg=.12, **kwargs):\n",
    "        super(A0, self).__init__(name='a0')\n",
    "        self.m1 = tf.Variable(1., name='m1')\n",
    "        self.kperp2avg = kperp2avg\n",
    "        self.pperp2avg = pperp2avg\n",
    "        self.e = tf.constant(1.)\n",
    "\n",
    "    def get_config(self):\n",
    "        config = super().get_config().copy()\n",
    "\n",
    "        config.update({\n",
    "            'kperp2avg': self.kperp2avg,\n",
    "            'pperp2avg': self.pperp2avg\n",
    "        })\n",
    "\n",
    "        return config\n",
    "\n",
    "    def call(self, inputs):\n",
    "        z = inputs[:, 0]\n",
    "        pht = inputs[:, 1]\n",
    "        ks2avg = (self.kperp2avg*self.m1**2)/(self.m1**2 + self.kperp2avg) #correct\n",
    "        topfirst = (z**2 * self.kperp2avg + self.pperp2avg) * ks2avg**2 #correct\n",
    "        bottomfirst = (z**2 * ks2avg + self.pperp2avg)**2 * self.kperp2avg #correct\n",
    "        exptop = pht**2 * z**2 * (ks2avg - self.kperp2avg) #correct\n",
    "        expbottom = (z**2 * ks2avg + self.pperp2avg) * (z**2 * self.kperp2avg + self.pperp2avg) #correct\n",
    "        last = tf.sqrt(2*self.e) * z * pht / self.m1 #correct\n",
    "        return (topfirst/bottomfirst) * tf.exp(-exptop/expbottom) * last\n",
    "\n",
    "\n",
    "class Quotient(tf.keras.layers.Layer):\n",
    "    def __init__(self, **kwargs):\n",
    "        super(Quotient, self).__init__()\n",
    "\n",
    "    def call(self, inputs):\n",
    "        if len(inputs) != 2 or inputs[0].shape[1] != 1:\n",
    "            raise Exception('must be two tensors of shape (?, 1)')\n",
    "        return inputs[0]/inputs[1]\n",
    "    \n",
    "    \n",
    "def nnq(model, x, hadronstr):\n",
    "    if not hadronstr in ['nnu', 'nnd', 'nns', 'nnubar', 'nndbar', 'nnsbar']:\n",
    "        raise Exception('hadronstr must be one of nnu, nnd, nns, nnubar, nndbar, nnsbar')\n",
    "    mod_out = tf.keras.backend.function(model.get_layer(hadronstr).input,\n",
    "                                       model.get_layer(hadronstr).output)\n",
    "    return mod_out(x)\n",
    "\n",
    "def pdf_vals(flavor, x, QQ):\n",
    "    pdfData = lhapdf.mkPDF(pdfset)\n",
    "    return np.array([pdfData.xfxQ2(flavor, ax, qq) for ax, qq in zip(x, QQ)])\n",
    "\n",
    "def h(model, kperp):\n",
    "    m1 = model.get_layer('a0').m1.numpy()\n",
    "    e = model.get_layer('a0').e.numpy()\n",
    "    return np.sqrt(2*e) * (kperp/m1) * np.exp(-kperp**2/m1**2)\n",
    "\n",
    "def fqp(x, QQ, kperp2avg, kperp, flavor):\n",
    "    fq = pdf_vals(flavor, x, QQ)\n",
    "    return fq*(1/(np.pi*kperp2avg))*np.exp(-kperp**2/kperp2avg)\n",
    "\n",
    "\n",
    "def xSivFunction(model, x, QQ, kperp2avg, flavor, kperp):\n",
    "    refDict = {-3: 'nnsbar',\n",
    "               -2: 'nnubar',\n",
    "               -1: 'nndbar',\n",
    "               1: 'nnd',\n",
    "               2: 'nnu',\n",
    "               3: 'nns'}\n",
    "    nnqval = nnq(model, np.array([x]), refDict[flavor])\n",
    "    #nnqval = nnq(model , np.array([x]), refDict[flavor])[:,0]\n",
    "    hval = h(model, kperp)\n",
    "    fqpval = fqp([x], [QQ], kperp2avg, kperp, flavor)\n",
    "    return ((2*nnqval*hval*fqpval)[0, :])\n",
    "\n",
    "\n",
    "def kval(kx,ky):\n",
    "    return np.sqrt(kx**2 + ky**2)\n",
    "\n",
    "\n",
    "def density_func(model, x, QQ, kperp2avg, flavor, kxx, kyy):\n",
    "    kTval = kval(kxx,kyy)\n",
    "    return fqp(x, QQ, kperp2avg, kTval, flavor) - (kxx/Mp)*xSivFunction(model, x, QQ, kperp2avg, flavor, kTval)"
   ]
  },
  {
   "cell_type": "code",
   "execution_count": 22,
   "metadata": {},
   "outputs": [],
   "source": [
    "tt = tf.keras.models.load_model('NN_SIDIS_Models/rep0.h5',custom_objects={'A0': A0, 'Quotient': Quotient})"
   ]
  },
  {
   "cell_type": "code",
   "execution_count": 26,
   "metadata": {},
   "outputs": [
    {
     "name": "stdout",
     "output_type": "stream",
     "text": [
      "2.8284271247461903\n"
     ]
    }
   ],
   "source": [
    "print(kval(2,2))"
   ]
  },
  {
   "cell_type": "code",
   "execution_count": 27,
   "metadata": {},
   "outputs": [
    {
     "name": "stdout",
     "output_type": "stream",
     "text": [
      "[0.   0.01 0.02 0.03 0.04 0.05 0.06 0.07 0.08 0.09 0.1  0.11 0.12 0.13\n",
      " 0.14 0.15 0.16 0.17 0.18 0.19 0.2  0.21 0.22 0.23 0.24 0.25 0.26 0.27\n",
      " 0.28 0.29 0.3  0.31 0.32 0.33 0.34 0.35 0.36 0.37 0.38 0.39 0.4  0.41\n",
      " 0.42 0.43 0.44 0.45 0.46 0.47 0.48 0.49 0.5  0.51 0.52 0.53 0.54 0.55\n",
      " 0.56 0.57 0.58 0.59 0.6  0.61 0.62 0.63 0.64 0.65 0.66 0.67 0.68 0.69\n",
      " 0.7  0.71 0.72 0.73 0.74 0.75 0.76 0.77 0.78 0.79 0.8  0.81 0.82 0.83\n",
      " 0.84 0.85 0.86 0.87 0.88 0.89 0.9  0.91 0.92 0.93 0.94 0.95 0.96 0.97\n",
      " 0.98 0.99 1.   1.01 1.02 1.03 1.04 1.05 1.06 1.07 1.08 1.09 1.1  1.11\n",
      " 1.12 1.13 1.14 1.15 1.16 1.17 1.18 1.19 1.2  1.21 1.22 1.23 1.24 1.25\n",
      " 1.26 1.27 1.28 1.29 1.3  1.31 1.32 1.33 1.34 1.35 1.36 1.37 1.38 1.39\n",
      " 1.4  1.41 1.42 1.43 1.44 1.45 1.46 1.47 1.48 1.49]\n"
     ]
    }
   ],
   "source": [
    "print(np.array(list(range(150)))/100)"
   ]
  },
  {
   "cell_type": "code",
   "execution_count": 31,
   "metadata": {},
   "outputs": [
    {
     "data": {
      "text/plain": [
       "array([0.60653049, 0.60626847, 0.60550203, 0.60422215, 0.60242047,\n",
       "       0.60008934, 0.59722183, 0.59381178, 0.5898538 , 0.58534331,\n",
       "       0.58027655, 0.57465063, 0.56846353, 0.56171409, 0.55440211,\n",
       "       0.54652825, 0.53809416, 0.52910239, 0.51955646, 0.50946084,\n",
       "       0.49882097, 0.48764324, 0.475935  , 0.46370457, 0.45096119,\n",
       "       0.43771508, 0.42397735, 0.40976007, 0.39507617, 0.37993949,\n",
       "       0.36436473, 0.34836742, 0.33196392, 0.31517137, 0.29800766,\n",
       "       0.28049143, 0.26264199, 0.24447933, 0.22602406, 0.20729735,\n",
       "       0.18832095, 0.16911708, 0.14970843, 0.13011811, 0.11036959,\n",
       "       0.09048666, 0.07049338, 0.05041403, 0.03027309, 0.01009515,\n",
       "       0.01009515, 0.03027309, 0.05041403, 0.07049338, 0.09048666,\n",
       "       0.11036959, 0.13011811, 0.14970843, 0.16911708, 0.18832095,\n",
       "       0.20729735, 0.22602406, 0.24447933, 0.26264199, 0.28049143,\n",
       "       0.29800766, 0.31517137, 0.33196392, 0.34836742, 0.36436473,\n",
       "       0.37993949, 0.39507617, 0.40976007, 0.42397735, 0.43771508,\n",
       "       0.45096119, 0.46370457, 0.475935  , 0.48764324, 0.49882097,\n",
       "       0.50946084, 0.51955646, 0.52910239, 0.53809416, 0.54652825,\n",
       "       0.55440211, 0.56171409, 0.56846353, 0.57465063, 0.58027655,\n",
       "       0.58534331, 0.5898538 , 0.59381178, 0.59722183, 0.60008934,\n",
       "       0.60242047, 0.60422215, 0.60550203, 0.60626847, 0.60653049])"
      ]
     },
     "execution_count": 31,
     "metadata": {},
     "output_type": "execute_result"
    }
   ],
   "source": [
    "kxv = np.array(np.linspace(-1,1,100))\n",
    "kyv = np.array(np.linspace(-1,1,100))\n",
    "kTv = kval(kxv,kyv)\n",
    "h(tt, kTv)"
   ]
  },
  {
   "cell_type": "code",
   "execution_count": 38,
   "metadata": {},
   "outputs": [],
   "source": [
    "test_density = density_func(tt, [0.1], [2], 0.57, 2, kxv, kyv)"
   ]
  },
  {
   "cell_type": "code",
   "execution_count": 40,
   "metadata": {},
   "outputs": [
    {
     "name": "stdout",
     "output_type": "stream",
     "text": [
      "[0.01387417 0.01588879 0.0181402  0.0206473  0.02342919 0.02650495\n",
      " 0.02989341 0.0336129  0.03768099 0.04211418 0.0469276  0.05213466\n",
      " 0.05774678 0.063773   0.07021973 0.07709035 0.08438501 0.09210026\n",
      " 0.10022891 0.10875973 0.11767738 0.1269622  0.13659022 0.14653311\n",
      " 0.15675825 0.1672288  0.17790393 0.18873899 0.19968582 0.21069309\n",
      " 0.22170667 0.23267011 0.24352505 0.25421182 0.26466986 0.27483841\n",
      " 0.28465696 0.2940659  0.30300705 0.31142425 0.31926388 0.32647539\n",
      " 0.33301176 0.33883001 0.34389158 0.34816269 0.3516147  0.35422435\n",
      " 0.355974   0.35685181 0.356816   0.35565277 0.35333786 0.34989416\n",
      " 0.34535551 0.33976617 0.33318008 0.32565997 0.31727638 0.3081065\n",
      " 0.29823303 0.28774291 0.27672601 0.2652739  0.25347855 0.24143113\n",
      " 0.22922086 0.21693396 0.20465272 0.1924546  0.18041158 0.16858956\n",
      " 0.15704792 0.14583922 0.13500902 0.12459582 0.11463116 0.10513975\n",
      " 0.09613978 0.08764322 0.07965627 0.07217982 0.06520993 0.0587384\n",
      " 0.05275327 0.0472394  0.04217898 0.03755206 0.03333703 0.02951107\n",
      " 0.02605061 0.02293167 0.0201302  0.01762242 0.01538502 0.0133954\n",
      " 0.01163184 0.01007365 0.00870122 0.00749616]\n"
     ]
    }
   ],
   "source": [
    "print(test_density)"
   ]
  },
  {
   "cell_type": "code",
   "execution_count": 56,
   "metadata": {},
   "outputs": [
    {
     "data": {
      "image/png": "[encoded data removed]",
      "text/plain": [
       "<Figure size 432x288 with 1 Axes>"
      ]
     },
     "metadata": {
      "needs_background": "light"
     },
     "output_type": "display_data"
    },
    {
     "name": "stdout",
     "output_type": "stream",
     "text": [
      "[[0.01387417 0.01481319 0.01579209 ... 0.00876273 0.00811053 0.00749616]\n",
      " [0.01465086 0.01564633 0.01668452 ... 0.00965516 0.00894368 0.00827285]\n",
      " [0.01546642 0.01652117 0.0176216  ... 0.01059225 0.00981851 0.0090884 ]\n",
      " ...\n",
      " [0.01546642 0.01652117 0.0176216  ... 0.01059225 0.00981851 0.0090884 ]\n",
      " [0.01465086 0.01564633 0.01668452 ... 0.00965516 0.00894368 0.00827285]\n",
      " [0.01387417 0.01481319 0.01579209 ... 0.00876273 0.00811053 0.00749616]]\n",
      "[[0.00298154 0.00329182 0.00362719 ... 0.01309251 0.01231723 0.0115698 ]\n",
      " [0.0035104  0.00385912 0.00423485 ... 0.01370017 0.01288453 0.01209866]\n",
      " [0.00406572 0.00445481 0.00487293 ... 0.01433825 0.01348022 0.01265398]\n",
      " ...\n",
      " [0.00406572 0.00445481 0.00487293 ... 0.01433825 0.01348022 0.01265398]\n",
      " [0.0035104  0.00385912 0.00423485 ... 0.01370017 0.01288453 0.01209866]\n",
      " [0.00298154 0.00329182 0.00362719 ... 0.01309251 0.01231723 0.0115698 ]]\n"
     ]
    }
   ],
   "source": [
    "# Sample data\n",
    "side = np.linspace(-1,1,100)\n",
    "kxv, kyv = np.meshgrid(side,side)\n",
    "Zu = density_func(tt, [0.1], [2], 0.57, 2, kxv, kyv)\n",
    "# Plot the density map using nearest-neighbor interpolation\n",
    "#plt.pcolormesh(kxv,kyv,Zu)\n",
    "plt.pcolormesh(kxv,kyv,Zu)\n",
    "plt.show()\n",
    "print(Zu)\n",
    "print(Zd)"
   ]
  },
  {
   "cell_type": "code",
   "execution_count": 45,
   "metadata": {},
   "outputs": [
    {
     "data": {
      "image/png": "[encoded data removed]",
      "text/plain": [
       "<Figure size 432x288 with 1 Axes>"
      ]
     },
     "metadata": {
      "needs_background": "light"
     },
     "output_type": "display_data"
    }
   ],
   "source": [
    "# Sample data\n",
    "side = np.linspace(-2,2,15)\n",
    "X,Y = np.meshgrid(side,side)\n",
    "Z = np.exp(-((X-1)**2+Y**2))\n",
    "\n",
    "# Plot the density map using nearest-neighbor interpolation\n",
    "plt.pcolormesh(X,Y,Z)\n",
    "plt.show()"
   ]
  },
  {
   "cell_type": "code",
   "execution_count": null,
   "metadata": {},
   "outputs": [],
   "source": []
  }
 ],
 "metadata": {
  "kernelspec": {
   "display_name": "Python 3",
   "language": "python",
   "name": "python3"
  },
  "language_info": {
   "codemirror_mode": {
    "name": "ipython",
    "version": 3
   },
   "file_extension": ".py",
   "mimetype": "text/x-python",
   "name": "python",
   "nbconvert_exporter": "python",
   "pygments_lexer": "ipython3",
   "version": "3.8.10"
  }
 },
 "nbformat": 4,
 "nbformat_minor": 4
}
