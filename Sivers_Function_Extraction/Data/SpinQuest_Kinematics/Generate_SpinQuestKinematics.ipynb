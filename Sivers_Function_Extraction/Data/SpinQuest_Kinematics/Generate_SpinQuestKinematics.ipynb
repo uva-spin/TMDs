{
 "cells": [
  {
   "cell_type": "code",
   "execution_count": 18,
   "metadata": {},
   "outputs": [],
   "source": [
    "import numpy as np\n",
    "import pandas as pd"
   ]
  },
  {
   "cell_type": "code",
   "execution_count": 16,
   "metadata": {},
   "outputs": [],
   "source": [
    "x1 = np.array(np.linspace(0.3,0.9,100))\n",
    "x2 = np.array(np.linspace(0.5,0.5,100))\n",
    "xf = x1-x2"
   ]
  },
  {
   "cell_type": "code",
   "execution_count": 24,
   "metadata": {},
   "outputs": [
    {
     "name": "stdout",
     "output_type": "stream",
     "text": [
      "['xF', 'xF', 'xF', 'xF', 'xF', 'xF', 'xF', 'xF', 'xF', 'xF', 'xF', 'xF', 'xF', 'xF', 'xF', 'xF', 'xF', 'xF', 'xF', 'xF', 'xF', 'xF', 'xF', 'xF', 'xF', 'xF', 'xF', 'xF', 'xF', 'xF', 'xF', 'xF', 'xF', 'xF', 'xF', 'xF', 'xF', 'xF', 'xF', 'xF', 'xF', 'xF', 'xF', 'xF', 'xF', 'xF', 'xF', 'xF', 'xF', 'xF', 'xF', 'xF', 'xF', 'xF', 'xF', 'xF', 'xF', 'xF', 'xF', 'xF', 'xF', 'xF', 'xF', 'xF', 'xF', 'xF', 'xF', 'xF', 'xF', 'xF', 'xF', 'xF', 'xF', 'xF', 'xF', 'xF', 'xF', 'xF', 'xF', 'xF', 'xF', 'xF', 'xF', 'xF', 'xF', 'xF', 'xF', 'xF', 'xF', 'xF', 'xF', 'xF', 'xF', 'xF', 'xF', 'xF', 'xF', 'xF', 'xF', 'xF']\n"
     ]
    }
   ],
   "source": [
    "xdep = [\"xF\" for i in range(0,100)]\n",
    "print(xdep)"
   ]
  },
  {
   "cell_type": "code",
   "execution_count": 17,
   "metadata": {},
   "outputs": [
    {
     "name": "stdout",
     "output_type": "stream",
     "text": [
      "[-0.2        -0.19393939 -0.18787879 -0.18181818 -0.17575758 -0.16969697\n",
      " -0.16363636 -0.15757576 -0.15151515 -0.14545455 -0.13939394 -0.13333333\n",
      " -0.12727273 -0.12121212 -0.11515152 -0.10909091 -0.1030303  -0.0969697\n",
      " -0.09090909 -0.08484848 -0.07878788 -0.07272727 -0.06666667 -0.06060606\n",
      " -0.05454545 -0.04848485 -0.04242424 -0.03636364 -0.03030303 -0.02424242\n",
      " -0.01818182 -0.01212121 -0.00606061  0.          0.00606061  0.01212121\n",
      "  0.01818182  0.02424242  0.03030303  0.03636364  0.04242424  0.04848485\n",
      "  0.05454545  0.06060606  0.06666667  0.07272727  0.07878788  0.08484848\n",
      "  0.09090909  0.0969697   0.1030303   0.10909091  0.11515152  0.12121212\n",
      "  0.12727273  0.13333333  0.13939394  0.14545455  0.15151515  0.15757576\n",
      "  0.16363636  0.16969697  0.17575758  0.18181818  0.18787879  0.19393939\n",
      "  0.2         0.20606061  0.21212121  0.21818182  0.22424242  0.23030303\n",
      "  0.23636364  0.24242424  0.24848485  0.25454545  0.26060606  0.26666667\n",
      "  0.27272727  0.27878788  0.28484848  0.29090909  0.2969697   0.3030303\n",
      "  0.30909091  0.31515152  0.32121212  0.32727273  0.33333333  0.33939394\n",
      "  0.34545455  0.35151515  0.35757576  0.36363636  0.36969697  0.37575758\n",
      "  0.38181818  0.38787879  0.39393939  0.4       ]\n"
     ]
    }
   ],
   "source": [
    "print(xf)"
   ]
  },
  {
   "cell_type": "code",
   "execution_count": 25,
   "metadata": {},
   "outputs": [
    {
     "data": {
      "text/html": [
       "<div>\n",
       "<style scoped>\n",
       "    .dataframe tbody tr th:only-of-type {\n",
       "        vertical-align: middle;\n",
       "    }\n",
       "\n",
       "    .dataframe tbody tr th {\n",
       "        vertical-align: top;\n",
       "    }\n",
       "\n",
       "    .dataframe thead th {\n",
       "        text-align: right;\n",
       "    }\n",
       "</style>\n",
       "<table border=\"1\" class=\"dataframe\">\n",
       "  <thead>\n",
       "    <tr style=\"text-align: right;\">\n",
       "      <th></th>\n",
       "      <th>Dependence</th>\n",
       "      <th>x1</th>\n",
       "      <th>x2</th>\n",
       "      <th>xF</th>\n",
       "      <th>QT</th>\n",
       "      <th>QM</th>\n",
       "    </tr>\n",
       "  </thead>\n",
       "  <tbody>\n",
       "    <tr>\n",
       "      <th>0</th>\n",
       "      <td>xF</td>\n",
       "      <td>0.300000</td>\n",
       "      <td>0.5</td>\n",
       "      <td>-0.200000</td>\n",
       "      <td>1.000000</td>\n",
       "      <td>4.000000</td>\n",
       "    </tr>\n",
       "    <tr>\n",
       "      <th>1</th>\n",
       "      <td>xF</td>\n",
       "      <td>0.306061</td>\n",
       "      <td>0.5</td>\n",
       "      <td>-0.193939</td>\n",
       "      <td>1.020202</td>\n",
       "      <td>4.050505</td>\n",
       "    </tr>\n",
       "    <tr>\n",
       "      <th>2</th>\n",
       "      <td>xF</td>\n",
       "      <td>0.312121</td>\n",
       "      <td>0.5</td>\n",
       "      <td>-0.187879</td>\n",
       "      <td>1.040404</td>\n",
       "      <td>4.101010</td>\n",
       "    </tr>\n",
       "    <tr>\n",
       "      <th>3</th>\n",
       "      <td>xF</td>\n",
       "      <td>0.318182</td>\n",
       "      <td>0.5</td>\n",
       "      <td>-0.181818</td>\n",
       "      <td>1.060606</td>\n",
       "      <td>4.151515</td>\n",
       "    </tr>\n",
       "    <tr>\n",
       "      <th>4</th>\n",
       "      <td>xF</td>\n",
       "      <td>0.324242</td>\n",
       "      <td>0.5</td>\n",
       "      <td>-0.175758</td>\n",
       "      <td>1.080808</td>\n",
       "      <td>4.202020</td>\n",
       "    </tr>\n",
       "    <tr>\n",
       "      <th>...</th>\n",
       "      <td>...</td>\n",
       "      <td>...</td>\n",
       "      <td>...</td>\n",
       "      <td>...</td>\n",
       "      <td>...</td>\n",
       "      <td>...</td>\n",
       "    </tr>\n",
       "    <tr>\n",
       "      <th>95</th>\n",
       "      <td>xF</td>\n",
       "      <td>0.875758</td>\n",
       "      <td>0.5</td>\n",
       "      <td>0.375758</td>\n",
       "      <td>2.919192</td>\n",
       "      <td>8.797980</td>\n",
       "    </tr>\n",
       "    <tr>\n",
       "      <th>96</th>\n",
       "      <td>xF</td>\n",
       "      <td>0.881818</td>\n",
       "      <td>0.5</td>\n",
       "      <td>0.381818</td>\n",
       "      <td>2.939394</td>\n",
       "      <td>8.848485</td>\n",
       "    </tr>\n",
       "    <tr>\n",
       "      <th>97</th>\n",
       "      <td>xF</td>\n",
       "      <td>0.887879</td>\n",
       "      <td>0.5</td>\n",
       "      <td>0.387879</td>\n",
       "      <td>2.959596</td>\n",
       "      <td>8.898990</td>\n",
       "    </tr>\n",
       "    <tr>\n",
       "      <th>98</th>\n",
       "      <td>xF</td>\n",
       "      <td>0.893939</td>\n",
       "      <td>0.5</td>\n",
       "      <td>0.393939</td>\n",
       "      <td>2.979798</td>\n",
       "      <td>8.949495</td>\n",
       "    </tr>\n",
       "    <tr>\n",
       "      <th>99</th>\n",
       "      <td>xF</td>\n",
       "      <td>0.900000</td>\n",
       "      <td>0.5</td>\n",
       "      <td>0.400000</td>\n",
       "      <td>3.000000</td>\n",
       "      <td>9.000000</td>\n",
       "    </tr>\n",
       "  </tbody>\n",
       "</table>\n",
       "<p>100 rows × 6 columns</p>\n",
       "</div>"
      ],
      "text/plain": [
       "   Dependence        x1   x2        xF        QT        QM\n",
       "0          xF  0.300000  0.5 -0.200000  1.000000  4.000000\n",
       "1          xF  0.306061  0.5 -0.193939  1.020202  4.050505\n",
       "2          xF  0.312121  0.5 -0.187879  1.040404  4.101010\n",
       "3          xF  0.318182  0.5 -0.181818  1.060606  4.151515\n",
       "4          xF  0.324242  0.5 -0.175758  1.080808  4.202020\n",
       "..        ...       ...  ...       ...       ...       ...\n",
       "95         xF  0.875758  0.5  0.375758  2.919192  8.797980\n",
       "96         xF  0.881818  0.5  0.381818  2.939394  8.848485\n",
       "97         xF  0.887879  0.5  0.387879  2.959596  8.898990\n",
       "98         xF  0.893939  0.5  0.393939  2.979798  8.949495\n",
       "99         xF  0.900000  0.5  0.400000  3.000000  9.000000\n",
       "\n",
       "[100 rows x 6 columns]"
      ]
     },
     "execution_count": 25,
     "metadata": {},
     "output_type": "execute_result"
    }
   ],
   "source": [
    "def GenSpinQuestKinematics(x1min,x1max,x2min,x2max,QTmin,QTmax,QMmin,QMmax,Npoints):\n",
    "    xdep = [\"xF\" for i in range(0,Npoints)]\n",
    "    x1 = np.array(np.linspace(x1min,x1max,Npoints))\n",
    "    x2 = np.array(np.linspace(x2min,x2max,Npoints))\n",
    "    xf = x1 - x2\n",
    "    QT = np.array(np.linspace(QTmin,QTmax,Npoints))\n",
    "    QM = np.array(np.linspace(QMmin,QMmax,Npoints))\n",
    "    data_dictionary = {\"Dependence\": [], \"x1\": [], \"x2\": [], \"xF\": [], \"QT\": [], \"QM\": []}\n",
    "    data_dictionary[\"Dependence\"] = xdep\n",
    "    data_dictionary[\"x1\"] = x1\n",
    "    data_dictionary[\"x2\"] = x2\n",
    "    data_dictionary[\"xF\"] = xf\n",
    "    data_dictionary[\"QT\"] = QT\n",
    "    data_dictionary[\"QM\"] = QM\n",
    "    return pd.DataFrame(data_dictionary)\n",
    "\n",
    "SpinQuestKins=GenSpinQuestKinematics(0.3,0.9,0.5,0.5,1.0,3.0,4.0,9.0,100)"
   ]
  },
  {
   "cell_type": "code",
   "execution_count": null,
   "metadata": {},
   "outputs": [],
   "source": []
  }
 ],
 "metadata": {
  "kernelspec": {
   "display_name": "Python 3",
   "language": "python",
   "name": "python3"
  },
  "language_info": {
   "codemirror_mode": {
    "name": "ipython",
    "version": 3
   },
   "file_extension": ".py",
   "mimetype": "text/x-python",
   "name": "python",
   "nbconvert_exporter": "python",
   "pygments_lexer": "ipython3",
   "version": "3.8.10"
  }
 },
 "nbformat": 4,
 "nbformat_minor": 4
}
