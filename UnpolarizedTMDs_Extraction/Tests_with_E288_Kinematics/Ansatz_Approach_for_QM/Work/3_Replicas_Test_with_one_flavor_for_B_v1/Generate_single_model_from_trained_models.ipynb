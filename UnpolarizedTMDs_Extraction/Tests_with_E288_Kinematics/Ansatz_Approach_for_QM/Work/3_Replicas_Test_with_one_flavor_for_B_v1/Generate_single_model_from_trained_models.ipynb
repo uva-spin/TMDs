{
 "cells": [
  {
   "cell_type": "code",
   "execution_count": 3,
   "id": "740fe668",
   "metadata": {},
   "outputs": [
    {
     "name": "stderr",
     "output_type": "stream",
     "text": [
      "WARNING:absl:No training configuration found in the save file, so the model was *not* compiled. Compile it manually.\n",
      "WARNING:absl:No training configuration found in the save file, so the model was *not* compiled. Compile it manually.\n",
      "WARNING:absl:No training configuration found in the save file, so the model was *not* compiled. Compile it manually.\n",
      "WARNING:absl:You are saving your model as an HDF5 file via `model.save()` or `keras.saving.save_model(model)`. This file format is considered legacy. We recommend using instead the native Keras format, e.g. `model.save('my_model.keras')` or `keras.saving.save_model(model, 'my_model.keras')`. \n"
     ]
    },
    {
     "name": "stdout",
     "output_type": "stream",
     "text": [
      "Single non-trainable model is ready!\n",
      "Single model saved successfully!\n"
     ]
    }
   ],
   "source": [
    "from tensorflow.keras import layers, models, Model, Input\n",
    "import numpy as np\n",
    "import tensorflow as tf\n",
    "import os\n",
    "\n",
    "# Load all models from the folder\n",
    "models_folder = \"Models_withLHAPDF\"\n",
    "model_files = [f for f in os.listdir(models_folder) if f.endswith(\".h5\")]\n",
    "\n",
    "models_list = [tf.keras.models.load_model(os.path.join(models_folder, f)) for f in model_files]\n",
    "\n",
    "# Generate predictions for a range of QM values\n",
    "QM_values = np.linspace(1, 10, 500).reshape(-1, 1)  # Ensure input shape matches the model\n",
    "dnn_outputs = np.array([model.predict(QM_values, verbose=0).flatten() for model in models_list])\n",
    "\n",
    "# Compute mean and standard deviation\n",
    "mean_values = np.mean(dnn_outputs, axis=0)\n",
    "std_values = np.std(dnn_outputs, axis=0)\n",
    "\n",
    "# Create a non-trainable model that returns mean and std\n",
    "def DNNQ_mean_std(QM_values, mean_values, std_values):\n",
    "    \"\"\" Creates a non-trainable model that outputs stored mean and std values \"\"\"\n",
    "    input_layer = Input(shape=(1,))\n",
    "    mean_layer = layers.Embedding(input_dim=len(QM_values), output_dim=1, input_length=1, trainable=False)\n",
    "    std_layer = layers.Embedding(input_dim=len(QM_values), output_dim=1, input_length=1, trainable=False)\n",
    "    \n",
    "    # Assign precomputed mean and std as embeddings\n",
    "    mean_layer.build((None,))\n",
    "    std_layer.build((None,))\n",
    "    \n",
    "    mean_layer.set_weights([mean_values.reshape(-1, 1)])\n",
    "    std_layer.set_weights([std_values.reshape(-1, 1)])\n",
    "\n",
    "    mean_output = mean_layer(input_layer)\n",
    "    std_output = std_layer(input_layer)\n",
    "\n",
    "    return Model(inputs=input_layer, outputs=[mean_output, std_output])\n",
    "\n",
    "# Create the model\n",
    "single_model = DNNQ_mean_std(QM_values, mean_values, std_values)\n",
    "print(\"Single non-trainable model is ready!\")\n",
    "\n",
    "# Save the single model\n",
    "single_model.save(\"single_model_with_mean_std.h5\")\n",
    "print(\"Single model saved successfully!\")\n"
   ]
  },
  {
   "cell_type": "code",
   "execution_count": null,
   "id": "5585f795",
   "metadata": {},
   "outputs": [],
   "source": []
  }
 ],
 "metadata": {
  "kernelspec": {
   "display_name": "Python 3 (ipykernel)",
   "language": "python",
   "name": "python3"
  },
  "language_info": {
   "codemirror_mode": {
    "name": "ipython",
    "version": 3
   },
   "file_extension": ".py",
   "mimetype": "text/x-python",
   "name": "python",
   "nbconvert_exporter": "python",
   "pygments_lexer": "ipython3",
   "version": "3.10.12"
  }
 },
 "nbformat": 4,
 "nbformat_minor": 5
}
